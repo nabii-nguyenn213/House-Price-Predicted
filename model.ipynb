{
 "cells": [
  {
   "cell_type": "markdown",
   "metadata": {},
   "source": [
    "### Import Libraries"
   ]
  },
  {
   "cell_type": "code",
   "execution_count": 43,
   "metadata": {},
   "outputs": [],
   "source": [
    "from linearregressionmodel import *\n",
    "import pandas as pd\n",
    "from sklearn.metrics import r2_score\n",
    "from sklearn.linear_model import LinearRegression\n",
    "from sklearn.model_selection import train_test_split"
   ]
  },
  {
   "cell_type": "markdown",
   "metadata": {},
   "source": [
    "read data "
   ]
  },
  {
   "cell_type": "code",
   "execution_count": 44,
   "metadata": {},
   "outputs": [
    {
     "data": {
      "text/html": [
       "<div>\n",
       "<style scoped>\n",
       "    .dataframe tbody tr th:only-of-type {\n",
       "        vertical-align: middle;\n",
       "    }\n",
       "\n",
       "    .dataframe tbody tr th {\n",
       "        vertical-align: top;\n",
       "    }\n",
       "\n",
       "    .dataframe thead th {\n",
       "        text-align: right;\n",
       "    }\n",
       "</style>\n",
       "<table border=\"1\" class=\"dataframe\">\n",
       "  <thead>\n",
       "    <tr style=\"text-align: right;\">\n",
       "      <th></th>\n",
       "      <th>Square_Footage</th>\n",
       "      <th>Num_Bedrooms</th>\n",
       "      <th>Num_Bathrooms</th>\n",
       "      <th>Year_Built</th>\n",
       "      <th>Lot_Size</th>\n",
       "      <th>Garage_Size</th>\n",
       "      <th>Neighborhood_Quality</th>\n",
       "      <th>House_Price</th>\n",
       "    </tr>\n",
       "  </thead>\n",
       "  <tbody>\n",
       "    <tr>\n",
       "      <th>0</th>\n",
       "      <td>1360</td>\n",
       "      <td>2</td>\n",
       "      <td>1</td>\n",
       "      <td>1981</td>\n",
       "      <td>0.599637</td>\n",
       "      <td>0</td>\n",
       "      <td>5</td>\n",
       "      <td>2.623829e+05</td>\n",
       "    </tr>\n",
       "    <tr>\n",
       "      <th>1</th>\n",
       "      <td>4272</td>\n",
       "      <td>3</td>\n",
       "      <td>3</td>\n",
       "      <td>2016</td>\n",
       "      <td>4.753014</td>\n",
       "      <td>1</td>\n",
       "      <td>6</td>\n",
       "      <td>9.852609e+05</td>\n",
       "    </tr>\n",
       "    <tr>\n",
       "      <th>2</th>\n",
       "      <td>3592</td>\n",
       "      <td>1</td>\n",
       "      <td>2</td>\n",
       "      <td>2016</td>\n",
       "      <td>3.634823</td>\n",
       "      <td>0</td>\n",
       "      <td>9</td>\n",
       "      <td>7.779774e+05</td>\n",
       "    </tr>\n",
       "    <tr>\n",
       "      <th>3</th>\n",
       "      <td>966</td>\n",
       "      <td>1</td>\n",
       "      <td>2</td>\n",
       "      <td>1977</td>\n",
       "      <td>2.730667</td>\n",
       "      <td>1</td>\n",
       "      <td>8</td>\n",
       "      <td>2.296989e+05</td>\n",
       "    </tr>\n",
       "    <tr>\n",
       "      <th>4</th>\n",
       "      <td>4926</td>\n",
       "      <td>2</td>\n",
       "      <td>1</td>\n",
       "      <td>1993</td>\n",
       "      <td>4.699073</td>\n",
       "      <td>0</td>\n",
       "      <td>8</td>\n",
       "      <td>1.041741e+06</td>\n",
       "    </tr>\n",
       "    <tr>\n",
       "      <th>...</th>\n",
       "      <td>...</td>\n",
       "      <td>...</td>\n",
       "      <td>...</td>\n",
       "      <td>...</td>\n",
       "      <td>...</td>\n",
       "      <td>...</td>\n",
       "      <td>...</td>\n",
       "      <td>...</td>\n",
       "    </tr>\n",
       "    <tr>\n",
       "      <th>995</th>\n",
       "      <td>3261</td>\n",
       "      <td>4</td>\n",
       "      <td>1</td>\n",
       "      <td>1978</td>\n",
       "      <td>2.165110</td>\n",
       "      <td>2</td>\n",
       "      <td>10</td>\n",
       "      <td>7.014940e+05</td>\n",
       "    </tr>\n",
       "    <tr>\n",
       "      <th>996</th>\n",
       "      <td>3179</td>\n",
       "      <td>1</td>\n",
       "      <td>2</td>\n",
       "      <td>1999</td>\n",
       "      <td>2.977123</td>\n",
       "      <td>1</td>\n",
       "      <td>10</td>\n",
       "      <td>6.837232e+05</td>\n",
       "    </tr>\n",
       "    <tr>\n",
       "      <th>997</th>\n",
       "      <td>2606</td>\n",
       "      <td>4</td>\n",
       "      <td>2</td>\n",
       "      <td>1962</td>\n",
       "      <td>4.055067</td>\n",
       "      <td>0</td>\n",
       "      <td>2</td>\n",
       "      <td>5.720240e+05</td>\n",
       "    </tr>\n",
       "    <tr>\n",
       "      <th>998</th>\n",
       "      <td>4723</td>\n",
       "      <td>5</td>\n",
       "      <td>2</td>\n",
       "      <td>1950</td>\n",
       "      <td>1.930921</td>\n",
       "      <td>0</td>\n",
       "      <td>7</td>\n",
       "      <td>9.648653e+05</td>\n",
       "    </tr>\n",
       "    <tr>\n",
       "      <th>999</th>\n",
       "      <td>3268</td>\n",
       "      <td>4</td>\n",
       "      <td>2</td>\n",
       "      <td>1983</td>\n",
       "      <td>3.108790</td>\n",
       "      <td>2</td>\n",
       "      <td>2</td>\n",
       "      <td>7.425993e+05</td>\n",
       "    </tr>\n",
       "  </tbody>\n",
       "</table>\n",
       "<p>1000 rows × 8 columns</p>\n",
       "</div>"
      ],
      "text/plain": [
       "     Square_Footage  Num_Bedrooms  Num_Bathrooms  Year_Built  Lot_Size  \\\n",
       "0              1360             2              1        1981  0.599637   \n",
       "1              4272             3              3        2016  4.753014   \n",
       "2              3592             1              2        2016  3.634823   \n",
       "3               966             1              2        1977  2.730667   \n",
       "4              4926             2              1        1993  4.699073   \n",
       "..              ...           ...            ...         ...       ...   \n",
       "995            3261             4              1        1978  2.165110   \n",
       "996            3179             1              2        1999  2.977123   \n",
       "997            2606             4              2        1962  4.055067   \n",
       "998            4723             5              2        1950  1.930921   \n",
       "999            3268             4              2        1983  3.108790   \n",
       "\n",
       "     Garage_Size  Neighborhood_Quality   House_Price  \n",
       "0              0                     5  2.623829e+05  \n",
       "1              1                     6  9.852609e+05  \n",
       "2              0                     9  7.779774e+05  \n",
       "3              1                     8  2.296989e+05  \n",
       "4              0                     8  1.041741e+06  \n",
       "..           ...                   ...           ...  \n",
       "995            2                    10  7.014940e+05  \n",
       "996            1                    10  6.837232e+05  \n",
       "997            0                     2  5.720240e+05  \n",
       "998            0                     7  9.648653e+05  \n",
       "999            2                     2  7.425993e+05  \n",
       "\n",
       "[1000 rows x 8 columns]"
      ]
     },
     "execution_count": 44,
     "metadata": {},
     "output_type": "execute_result"
    }
   ],
   "source": [
    "data = pd.read_csv('house_price_regression_dataset.csv')\n",
    "data"
   ]
  },
  {
   "cell_type": "code",
   "execution_count": 45,
   "metadata": {},
   "outputs": [
    {
     "data": {
      "text/plain": [
       "(     Square_Footage  Num_Bedrooms  Num_Bathrooms  Year_Built  Lot_Size  \\\n",
       " 0              1360             2              1        1981  0.599637   \n",
       " 1              4272             3              3        2016  4.753014   \n",
       " 2              3592             1              2        2016  3.634823   \n",
       " 3               966             1              2        1977  2.730667   \n",
       " 4              4926             2              1        1993  4.699073   \n",
       " ..              ...           ...            ...         ...       ...   \n",
       " 995            3261             4              1        1978  2.165110   \n",
       " 996            3179             1              2        1999  2.977123   \n",
       " 997            2606             4              2        1962  4.055067   \n",
       " 998            4723             5              2        1950  1.930921   \n",
       " 999            3268             4              2        1983  3.108790   \n",
       " \n",
       "      Garage_Size  Neighborhood_Quality  \n",
       " 0              0                     5  \n",
       " 1              1                     6  \n",
       " 2              0                     9  \n",
       " 3              1                     8  \n",
       " 4              0                     8  \n",
       " ..           ...                   ...  \n",
       " 995            2                    10  \n",
       " 996            1                    10  \n",
       " 997            0                     2  \n",
       " 998            0                     7  \n",
       " 999            2                     2  \n",
       " \n",
       " [1000 rows x 7 columns],\n",
       " 0      2.623829e+05\n",
       " 1      9.852609e+05\n",
       " 2      7.779774e+05\n",
       " 3      2.296989e+05\n",
       " 4      1.041741e+06\n",
       "            ...     \n",
       " 995    7.014940e+05\n",
       " 996    6.837232e+05\n",
       " 997    5.720240e+05\n",
       " 998    9.648653e+05\n",
       " 999    7.425993e+05\n",
       " Name: House_Price, Length: 1000, dtype: float64)"
      ]
     },
     "execution_count": 45,
     "metadata": {},
     "output_type": "execute_result"
    }
   ],
   "source": [
    "x = data.drop(columns=['House_Price'])\n",
    "y = data['House_Price']\n",
    "x, y"
   ]
  },
  {
   "cell_type": "markdown",
   "metadata": {},
   "source": [
    "### Split the data to training set and test set"
   ]
  },
  {
   "cell_type": "code",
   "execution_count": 46,
   "metadata": {},
   "outputs": [
    {
     "data": {
      "text/plain": [
       "(     Square_Footage  Num_Bedrooms  Num_Bathrooms  Year_Built  Lot_Size  \\\n",
       " 453            3116             4              3        2001  1.830445   \n",
       " 520            1750             5              2        1976  2.255541   \n",
       " 126            1806             1              2        2001  2.576853   \n",
       " 278            4514             4              3        1993  1.247098   \n",
       " 514            2352             3              2        1991  3.569689   \n",
       " ..              ...           ...            ...         ...       ...   \n",
       " 508            3940             2              1        1958  3.217086   \n",
       " 75              564             5              3        2018  2.844829   \n",
       " 624            4800             1              1        1974  4.582620   \n",
       " 309            1074             4              2        1982  2.487859   \n",
       " 167            4082             3              3        1973  0.861000   \n",
       " \n",
       "      Garage_Size  Neighborhood_Quality  \n",
       " 453            1                     3  \n",
       " 520            0                     1  \n",
       " 126            0                     2  \n",
       " 278            1                     3  \n",
       " 514            2                     1  \n",
       " ..           ...                   ...  \n",
       " 508            0                    10  \n",
       " 75             2                     4  \n",
       " 624            2                     1  \n",
       " 309            1                     9  \n",
       " 167            2                     6  \n",
       " \n",
       " [700 rows x 7 columns],\n",
       " 453    6.962241e+05\n",
       " 520    4.099472e+05\n",
       " 126    4.202035e+05\n",
       " 278    9.551589e+05\n",
       " 514    5.269518e+05\n",
       "            ...     \n",
       " 508    8.049047e+05\n",
       " 75     2.428659e+05\n",
       " 624    1.018027e+06\n",
       " 309    2.690618e+05\n",
       " 167    8.572052e+05\n",
       " Name: House_Price, Length: 700, dtype: float64)"
      ]
     },
     "execution_count": 46,
     "metadata": {},
     "output_type": "execute_result"
    }
   ],
   "source": [
    "x_train, x_test, y_train, y_test = train_test_split(x, y, test_size=0.3)\n",
    "x_train, y_train"
   ]
  },
  {
   "cell_type": "markdown",
   "metadata": {},
   "source": [
    "### Standardization"
   ]
  },
  {
   "cell_type": "code",
   "execution_count": 47,
   "metadata": {},
   "outputs": [
    {
     "data": {
      "text/html": [
       "<div>\n",
       "<style scoped>\n",
       "    .dataframe tbody tr th:only-of-type {\n",
       "        vertical-align: middle;\n",
       "    }\n",
       "\n",
       "    .dataframe tbody tr th {\n",
       "        vertical-align: top;\n",
       "    }\n",
       "\n",
       "    .dataframe thead th {\n",
       "        text-align: right;\n",
       "    }\n",
       "</style>\n",
       "<table border=\"1\" class=\"dataframe\">\n",
       "  <thead>\n",
       "    <tr style=\"text-align: right;\">\n",
       "      <th></th>\n",
       "      <th>Square_Footage</th>\n",
       "      <th>Num_Bedrooms</th>\n",
       "      <th>Num_Bathrooms</th>\n",
       "      <th>Year_Built</th>\n",
       "      <th>Lot_Size</th>\n",
       "      <th>Garage_Size</th>\n",
       "      <th>Neighborhood_Quality</th>\n",
       "    </tr>\n",
       "  </thead>\n",
       "  <tbody>\n",
       "    <tr>\n",
       "      <th>453</th>\n",
       "      <td>0.623325</td>\n",
       "      <td>0.0008</td>\n",
       "      <td>0.0006</td>\n",
       "      <td>0.400280</td>\n",
       "      <td>0.000366</td>\n",
       "      <td>0.0002</td>\n",
       "      <td>0.0006</td>\n",
       "    </tr>\n",
       "    <tr>\n",
       "      <th>520</th>\n",
       "      <td>0.350070</td>\n",
       "      <td>0.0010</td>\n",
       "      <td>0.0004</td>\n",
       "      <td>0.395279</td>\n",
       "      <td>0.000451</td>\n",
       "      <td>0.0000</td>\n",
       "      <td>0.0002</td>\n",
       "    </tr>\n",
       "    <tr>\n",
       "      <th>126</th>\n",
       "      <td>0.361272</td>\n",
       "      <td>0.0002</td>\n",
       "      <td>0.0004</td>\n",
       "      <td>0.400280</td>\n",
       "      <td>0.000515</td>\n",
       "      <td>0.0000</td>\n",
       "      <td>0.0004</td>\n",
       "    </tr>\n",
       "    <tr>\n",
       "      <th>278</th>\n",
       "      <td>0.902981</td>\n",
       "      <td>0.0008</td>\n",
       "      <td>0.0006</td>\n",
       "      <td>0.398680</td>\n",
       "      <td>0.000249</td>\n",
       "      <td>0.0002</td>\n",
       "      <td>0.0006</td>\n",
       "    </tr>\n",
       "    <tr>\n",
       "      <th>514</th>\n",
       "      <td>0.470494</td>\n",
       "      <td>0.0006</td>\n",
       "      <td>0.0004</td>\n",
       "      <td>0.398280</td>\n",
       "      <td>0.000714</td>\n",
       "      <td>0.0004</td>\n",
       "      <td>0.0002</td>\n",
       "    </tr>\n",
       "    <tr>\n",
       "      <th>...</th>\n",
       "      <td>...</td>\n",
       "      <td>...</td>\n",
       "      <td>...</td>\n",
       "      <td>...</td>\n",
       "      <td>...</td>\n",
       "      <td>...</td>\n",
       "      <td>...</td>\n",
       "    </tr>\n",
       "    <tr>\n",
       "      <th>508</th>\n",
       "      <td>0.788158</td>\n",
       "      <td>0.0004</td>\n",
       "      <td>0.0002</td>\n",
       "      <td>0.391678</td>\n",
       "      <td>0.000644</td>\n",
       "      <td>0.0000</td>\n",
       "      <td>0.0020</td>\n",
       "    </tr>\n",
       "    <tr>\n",
       "      <th>75</th>\n",
       "      <td>0.112823</td>\n",
       "      <td>0.0010</td>\n",
       "      <td>0.0006</td>\n",
       "      <td>0.403681</td>\n",
       "      <td>0.000569</td>\n",
       "      <td>0.0004</td>\n",
       "      <td>0.0008</td>\n",
       "    </tr>\n",
       "    <tr>\n",
       "      <th>624</th>\n",
       "      <td>0.960192</td>\n",
       "      <td>0.0002</td>\n",
       "      <td>0.0002</td>\n",
       "      <td>0.394879</td>\n",
       "      <td>0.000917</td>\n",
       "      <td>0.0004</td>\n",
       "      <td>0.0002</td>\n",
       "    </tr>\n",
       "    <tr>\n",
       "      <th>309</th>\n",
       "      <td>0.214843</td>\n",
       "      <td>0.0008</td>\n",
       "      <td>0.0004</td>\n",
       "      <td>0.396479</td>\n",
       "      <td>0.000498</td>\n",
       "      <td>0.0002</td>\n",
       "      <td>0.0018</td>\n",
       "    </tr>\n",
       "    <tr>\n",
       "      <th>167</th>\n",
       "      <td>0.816563</td>\n",
       "      <td>0.0006</td>\n",
       "      <td>0.0006</td>\n",
       "      <td>0.394679</td>\n",
       "      <td>0.000172</td>\n",
       "      <td>0.0004</td>\n",
       "      <td>0.0012</td>\n",
       "    </tr>\n",
       "  </tbody>\n",
       "</table>\n",
       "<p>700 rows × 7 columns</p>\n",
       "</div>"
      ],
      "text/plain": [
       "     Square_Footage  Num_Bedrooms  Num_Bathrooms  Year_Built  Lot_Size  \\\n",
       "453        0.623325        0.0008         0.0006    0.400280  0.000366   \n",
       "520        0.350070        0.0010         0.0004    0.395279  0.000451   \n",
       "126        0.361272        0.0002         0.0004    0.400280  0.000515   \n",
       "278        0.902981        0.0008         0.0006    0.398680  0.000249   \n",
       "514        0.470494        0.0006         0.0004    0.398280  0.000714   \n",
       "..              ...           ...            ...         ...       ...   \n",
       "508        0.788158        0.0004         0.0002    0.391678  0.000644   \n",
       "75         0.112823        0.0010         0.0006    0.403681  0.000569   \n",
       "624        0.960192        0.0002         0.0002    0.394879  0.000917   \n",
       "309        0.214843        0.0008         0.0004    0.396479  0.000498   \n",
       "167        0.816563        0.0006         0.0006    0.394679  0.000172   \n",
       "\n",
       "     Garage_Size  Neighborhood_Quality  \n",
       "453       0.0002                0.0006  \n",
       "520       0.0000                0.0002  \n",
       "126       0.0000                0.0004  \n",
       "278       0.0002                0.0006  \n",
       "514       0.0004                0.0002  \n",
       "..           ...                   ...  \n",
       "508       0.0000                0.0020  \n",
       "75        0.0004                0.0008  \n",
       "624       0.0004                0.0002  \n",
       "309       0.0002                0.0018  \n",
       "167       0.0004                0.0012  \n",
       "\n",
       "[700 rows x 7 columns]"
      ]
     },
     "execution_count": 47,
     "metadata": {},
     "output_type": "execute_result"
    }
   ],
   "source": [
    "x_train = (x_train - np.min(x_train))/(np.max(x_train) - np.min(x_train))\n",
    "x_train"
   ]
  },
  {
   "cell_type": "code",
   "execution_count": 48,
   "metadata": {},
   "outputs": [
    {
     "data": {
      "text/plain": [
       "453    0.586586\n",
       "520    0.299335\n",
       "126    0.309626\n",
       "278    0.846401\n",
       "514    0.416738\n",
       "         ...   \n",
       "508    0.695636\n",
       "75     0.131685\n",
       "624    0.909483\n",
       "309    0.157970\n",
       "167    0.748115\n",
       "Name: House_Price, Length: 700, dtype: float64"
      ]
     },
     "execution_count": 48,
     "metadata": {},
     "output_type": "execute_result"
    }
   ],
   "source": [
    "y_train = (y_train - np.min(y_train))/(np.max(y_train) - np.min(y_train))\n",
    "y_train"
   ]
  },
  {
   "cell_type": "code",
   "execution_count": 49,
   "metadata": {},
   "outputs": [],
   "source": [
    "x_test = (x_test - np.min(x_test))/(np.max(x_test) - np.min(x_test))\n",
    "y_test = (y_test - np.min(y_test))/(np.max(y_test) - np.min(y_test))"
   ]
  },
  {
   "cell_type": "markdown",
   "metadata": {},
   "source": [
    "### Call the linear regression model"
   ]
  },
  {
   "cell_type": "code",
   "execution_count": 50,
   "metadata": {},
   "outputs": [],
   "source": [
    "model = Linear_Regression(lr = 0.005, epochs=5000)\n",
    "model.fit(x_train, y_train)"
   ]
  },
  {
   "cell_type": "markdown",
   "metadata": {},
   "source": [
    "weights and intercept"
   ]
  },
  {
   "cell_type": "code",
   "execution_count": 51,
   "metadata": {},
   "outputs": [
    {
     "name": "stdout",
     "output_type": "stream",
     "text": [
      "weights :\n",
      "[[1.0029581 ]\n",
      " [0.75222822]\n",
      " [0.56211639]\n",
      " [0.00129803]\n",
      " [0.49913616]\n",
      " [0.03016327]\n",
      " [0.8787951 ]]\n",
      "-------------------------------------\n",
      "intercept:\n",
      "-0.055176171460675265\n"
     ]
    }
   ],
   "source": [
    "print('weights :')\n",
    "print(model.w)\n",
    "print(\"-------------------------------------\")\n",
    "print('intercept:')\n",
    "print(model.b)"
   ]
  },
  {
   "cell_type": "markdown",
   "metadata": {},
   "source": [
    "### Train Score"
   ]
  },
  {
   "cell_type": "code",
   "execution_count": 52,
   "metadata": {},
   "outputs": [
    {
     "name": "stdout",
     "output_type": "stream",
     "text": [
      "r2 score train : 0.9834488490814541\n",
      "(700,)\n"
     ]
    }
   ],
   "source": [
    "y_pred = model.predict(x_train)\n",
    "print(\"r2 score train :\", r2_score(y_train, y_pred))\n",
    "y_pred = y_pred.to_numpy().reshape(y_train.shape)\n",
    "print(y_pred.shape)"
   ]
  },
  {
   "cell_type": "markdown",
   "metadata": {},
   "source": [
    "### Compare predicted values and true values in training set"
   ]
  },
  {
   "cell_type": "code",
   "execution_count": 53,
   "metadata": {},
   "outputs": [
    {
     "data": {
      "text/html": [
       "<div>\n",
       "<style scoped>\n",
       "    .dataframe tbody tr th:only-of-type {\n",
       "        vertical-align: middle;\n",
       "    }\n",
       "\n",
       "    .dataframe tbody tr th {\n",
       "        vertical-align: top;\n",
       "    }\n",
       "\n",
       "    .dataframe thead th {\n",
       "        text-align: right;\n",
       "    }\n",
       "</style>\n",
       "<table border=\"1\" class=\"dataframe\">\n",
       "  <thead>\n",
       "    <tr style=\"text-align: right;\">\n",
       "      <th></th>\n",
       "      <th>y_pred</th>\n",
       "      <th>y_train</th>\n",
       "      <th>dif</th>\n",
       "    </tr>\n",
       "  </thead>\n",
       "  <tbody>\n",
       "    <tr>\n",
       "      <th>453</th>\n",
       "      <td>0.572167</td>\n",
       "      <td>0.586586</td>\n",
       "      <td>0.014418</td>\n",
       "    </tr>\n",
       "    <tr>\n",
       "      <th>520</th>\n",
       "      <td>0.297821</td>\n",
       "      <td>0.299335</td>\n",
       "      <td>0.001514</td>\n",
       "    </tr>\n",
       "    <tr>\n",
       "      <th>126</th>\n",
       "      <td>0.308669</td>\n",
       "      <td>0.309626</td>\n",
       "      <td>0.000958</td>\n",
       "    </tr>\n",
       "    <tr>\n",
       "      <th>278</th>\n",
       "      <td>0.852590</td>\n",
       "      <td>0.846401</td>\n",
       "      <td>-0.006189</td>\n",
       "    </tr>\n",
       "    <tr>\n",
       "      <th>514</th>\n",
       "      <td>0.418447</td>\n",
       "      <td>0.416738</td>\n",
       "      <td>-0.001710</td>\n",
       "    </tr>\n",
       "    <tr>\n",
       "      <th>...</th>\n",
       "      <td>...</td>\n",
       "      <td>...</td>\n",
       "      <td>...</td>\n",
       "    </tr>\n",
       "    <tr>\n",
       "      <th>508</th>\n",
       "      <td>0.738314</td>\n",
       "      <td>0.695636</td>\n",
       "      <td>-0.042678</td>\n",
       "    </tr>\n",
       "    <tr>\n",
       "      <th>75</th>\n",
       "      <td>0.060593</td>\n",
       "      <td>0.131685</td>\n",
       "      <td>0.071092</td>\n",
       "    </tr>\n",
       "    <tr>\n",
       "      <th>624</th>\n",
       "      <td>0.909277</td>\n",
       "      <td>0.909483</td>\n",
       "      <td>0.000206</td>\n",
       "    </tr>\n",
       "    <tr>\n",
       "      <th>309</th>\n",
       "      <td>0.163480</td>\n",
       "      <td>0.157970</td>\n",
       "      <td>-0.005510</td>\n",
       "    </tr>\n",
       "    <tr>\n",
       "      <th>167</th>\n",
       "      <td>0.766256</td>\n",
       "      <td>0.748115</td>\n",
       "      <td>-0.018142</td>\n",
       "    </tr>\n",
       "  </tbody>\n",
       "</table>\n",
       "<p>700 rows × 3 columns</p>\n",
       "</div>"
      ],
      "text/plain": [
       "       y_pred   y_train       dif\n",
       "453  0.572167  0.586586  0.014418\n",
       "520  0.297821  0.299335  0.001514\n",
       "126  0.308669  0.309626  0.000958\n",
       "278  0.852590  0.846401 -0.006189\n",
       "514  0.418447  0.416738 -0.001710\n",
       "..        ...       ...       ...\n",
       "508  0.738314  0.695636 -0.042678\n",
       "75   0.060593  0.131685  0.071092\n",
       "624  0.909277  0.909483  0.000206\n",
       "309  0.163480  0.157970 -0.005510\n",
       "167  0.766256  0.748115 -0.018142\n",
       "\n",
       "[700 rows x 3 columns]"
      ]
     },
     "execution_count": 53,
     "metadata": {},
     "output_type": "execute_result"
    }
   ],
   "source": [
    "dif = pd.DataFrame({'y_pred' : y_pred, \n",
    "                    'y_train' : y_train,\n",
    "                    'dif' : y_train-y_pred})\n",
    "dif"
   ]
  },
  {
   "cell_type": "markdown",
   "metadata": {},
   "source": [
    "### Training Loss"
   ]
  },
  {
   "cell_type": "code",
   "execution_count": 54,
   "metadata": {},
   "outputs": [
    {
     "data": {
      "text/plain": [
       "0.0015517241607670952"
      ]
     },
     "execution_count": 54,
     "metadata": {},
     "output_type": "execute_result"
    }
   ],
   "source": [
    "train_loss = model.MSE(y_train, y_pred)\n",
    "train_loss"
   ]
  },
  {
   "cell_type": "markdown",
   "metadata": {},
   "source": [
    "### Test score"
   ]
  },
  {
   "cell_type": "code",
   "execution_count": 55,
   "metadata": {},
   "outputs": [
    {
     "name": "stdout",
     "output_type": "stream",
     "text": [
      "r2 score test : 0.9781437254330583\n",
      "(300,)\n"
     ]
    }
   ],
   "source": [
    "y_pred = model.predict(x_test)\n",
    "print(\"r2 score test :\", r2_score(y_test, y_pred))\n",
    "y_pred = y_pred.to_numpy().reshape(y_test.shape)\n",
    "print(y_pred.shape)"
   ]
  },
  {
   "cell_type": "markdown",
   "metadata": {},
   "source": [
    "### Compare predicted values and true values in test set"
   ]
  },
  {
   "cell_type": "code",
   "execution_count": 56,
   "metadata": {},
   "outputs": [
    {
     "data": {
      "text/html": [
       "<div>\n",
       "<style scoped>\n",
       "    .dataframe tbody tr th:only-of-type {\n",
       "        vertical-align: middle;\n",
       "    }\n",
       "\n",
       "    .dataframe tbody tr th {\n",
       "        vertical-align: top;\n",
       "    }\n",
       "\n",
       "    .dataframe thead th {\n",
       "        text-align: right;\n",
       "    }\n",
       "</style>\n",
       "<table border=\"1\" class=\"dataframe\">\n",
       "  <thead>\n",
       "    <tr style=\"text-align: right;\">\n",
       "      <th></th>\n",
       "      <th>y_pred</th>\n",
       "      <th>y_test</th>\n",
       "      <th>dif</th>\n",
       "    </tr>\n",
       "  </thead>\n",
       "  <tbody>\n",
       "    <tr>\n",
       "      <th>407</th>\n",
       "      <td>0.844733</td>\n",
       "      <td>0.876297</td>\n",
       "      <td>0.031564</td>\n",
       "    </tr>\n",
       "    <tr>\n",
       "      <th>182</th>\n",
       "      <td>0.396454</td>\n",
       "      <td>0.389164</td>\n",
       "      <td>-0.007290</td>\n",
       "    </tr>\n",
       "    <tr>\n",
       "      <th>301</th>\n",
       "      <td>0.242158</td>\n",
       "      <td>0.219334</td>\n",
       "      <td>-0.022824</td>\n",
       "    </tr>\n",
       "    <tr>\n",
       "      <th>378</th>\n",
       "      <td>0.759626</td>\n",
       "      <td>0.751250</td>\n",
       "      <td>-0.008376</td>\n",
       "    </tr>\n",
       "    <tr>\n",
       "      <th>468</th>\n",
       "      <td>0.585004</td>\n",
       "      <td>0.575181</td>\n",
       "      <td>-0.009823</td>\n",
       "    </tr>\n",
       "    <tr>\n",
       "      <th>...</th>\n",
       "      <td>...</td>\n",
       "      <td>...</td>\n",
       "      <td>...</td>\n",
       "    </tr>\n",
       "    <tr>\n",
       "      <th>945</th>\n",
       "      <td>0.717890</td>\n",
       "      <td>0.693382</td>\n",
       "      <td>-0.024508</td>\n",
       "    </tr>\n",
       "    <tr>\n",
       "      <th>949</th>\n",
       "      <td>0.740322</td>\n",
       "      <td>0.739464</td>\n",
       "      <td>-0.000859</td>\n",
       "    </tr>\n",
       "    <tr>\n",
       "      <th>239</th>\n",
       "      <td>0.737556</td>\n",
       "      <td>0.703110</td>\n",
       "      <td>-0.034446</td>\n",
       "    </tr>\n",
       "    <tr>\n",
       "      <th>236</th>\n",
       "      <td>0.739421</td>\n",
       "      <td>0.665790</td>\n",
       "      <td>-0.073631</td>\n",
       "    </tr>\n",
       "    <tr>\n",
       "      <th>235</th>\n",
       "      <td>0.239622</td>\n",
       "      <td>0.281478</td>\n",
       "      <td>0.041857</td>\n",
       "    </tr>\n",
       "  </tbody>\n",
       "</table>\n",
       "<p>300 rows × 3 columns</p>\n",
       "</div>"
      ],
      "text/plain": [
       "       y_pred    y_test       dif\n",
       "407  0.844733  0.876297  0.031564\n",
       "182  0.396454  0.389164 -0.007290\n",
       "301  0.242158  0.219334 -0.022824\n",
       "378  0.759626  0.751250 -0.008376\n",
       "468  0.585004  0.575181 -0.009823\n",
       "..        ...       ...       ...\n",
       "945  0.717890  0.693382 -0.024508\n",
       "949  0.740322  0.739464 -0.000859\n",
       "239  0.737556  0.703110 -0.034446\n",
       "236  0.739421  0.665790 -0.073631\n",
       "235  0.239622  0.281478  0.041857\n",
       "\n",
       "[300 rows x 3 columns]"
      ]
     },
     "execution_count": 56,
     "metadata": {},
     "output_type": "execute_result"
    }
   ],
   "source": [
    "dif = pd.DataFrame({'y_pred' : y_pred, \n",
    "                    'y_test' : y_test,\n",
    "                    'dif' : y_test-y_pred})\n",
    "dif"
   ]
  },
  {
   "cell_type": "markdown",
   "metadata": {},
   "source": [
    "### Test Loss"
   ]
  },
  {
   "cell_type": "code",
   "execution_count": 57,
   "metadata": {},
   "outputs": [
    {
     "data": {
      "text/plain": [
       "0.06084475446849316"
      ]
     },
     "execution_count": 57,
     "metadata": {},
     "output_type": "execute_result"
    }
   ],
   "source": [
    "test_loss = model.MSE(y_test, y_pred)\n",
    "test_loss"
   ]
  },
  {
   "cell_type": "markdown",
   "metadata": {},
   "source": [
    "### Use SKLearn to compare r2 score"
   ]
  },
  {
   "cell_type": "code",
   "execution_count": 59,
   "metadata": {},
   "outputs": [
    {
     "name": "stdout",
     "output_type": "stream",
     "text": [
      "r2 score train : 0.9984863367527426\n",
      "-------------------------------------\n",
      "r2 score test : 0.9972035550800299\n",
      "-------------------------------------\n"
     ]
    }
   ],
   "source": [
    "linreg = LinearRegression()\n",
    "linreg.fit(x_train, y_train)\n",
    "y_pred_test = linreg.predict(x_test)\n",
    "y_pred_train = linreg.predict(x_train)\n",
    "print(\"r2 score train :\", r2_score(y_train, y_pred_train))\n",
    "print(\"-------------------------------------\")\n",
    "print(\"r2 score test :\", r2_score(y_test, y_pred_test))\n",
    "print(\"-------------------------------------\")"
   ]
  }
 ],
 "metadata": {
  "kernelspec": {
   "display_name": "Python 3",
   "language": "python",
   "name": "python3"
  },
  "language_info": {
   "codemirror_mode": {
    "name": "ipython",
    "version": 3
   },
   "file_extension": ".py",
   "mimetype": "text/x-python",
   "name": "python",
   "nbconvert_exporter": "python",
   "pygments_lexer": "ipython3",
   "version": "3.12.5"
  }
 },
 "nbformat": 4,
 "nbformat_minor": 2
}
