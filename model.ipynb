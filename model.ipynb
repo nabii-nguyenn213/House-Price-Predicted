{
 "cells": [
  {
   "cell_type": "markdown",
   "metadata": {},
   "source": [
    "### Import Libraries"
   ]
  },
  {
   "cell_type": "code",
   "execution_count": 28,
   "metadata": {},
   "outputs": [],
   "source": [
    "from linearregressionmodel import *\n",
    "import pandas as pd\n",
    "from sklearn.metrics import r2_score\n",
    "from sklearn.linear_model import LinearRegression\n",
    "from sklearn.model_selection import train_test_split"
   ]
  },
  {
   "cell_type": "markdown",
   "metadata": {},
   "source": [
    "read data "
   ]
  },
  {
   "cell_type": "code",
   "execution_count": 29,
   "metadata": {},
   "outputs": [
    {
     "data": {
      "text/html": [
       "<div>\n",
       "<style scoped>\n",
       "    .dataframe tbody tr th:only-of-type {\n",
       "        vertical-align: middle;\n",
       "    }\n",
       "\n",
       "    .dataframe tbody tr th {\n",
       "        vertical-align: top;\n",
       "    }\n",
       "\n",
       "    .dataframe thead th {\n",
       "        text-align: right;\n",
       "    }\n",
       "</style>\n",
       "<table border=\"1\" class=\"dataframe\">\n",
       "  <thead>\n",
       "    <tr style=\"text-align: right;\">\n",
       "      <th></th>\n",
       "      <th>Square_Footage</th>\n",
       "      <th>Num_Bedrooms</th>\n",
       "      <th>Num_Bathrooms</th>\n",
       "      <th>Year_Built</th>\n",
       "      <th>Lot_Size</th>\n",
       "      <th>Garage_Size</th>\n",
       "      <th>Neighborhood_Quality</th>\n",
       "      <th>House_Price</th>\n",
       "    </tr>\n",
       "  </thead>\n",
       "  <tbody>\n",
       "    <tr>\n",
       "      <th>0</th>\n",
       "      <td>1360</td>\n",
       "      <td>2</td>\n",
       "      <td>1</td>\n",
       "      <td>1981</td>\n",
       "      <td>0.599637</td>\n",
       "      <td>0</td>\n",
       "      <td>5</td>\n",
       "      <td>2.623829e+05</td>\n",
       "    </tr>\n",
       "    <tr>\n",
       "      <th>1</th>\n",
       "      <td>4272</td>\n",
       "      <td>3</td>\n",
       "      <td>3</td>\n",
       "      <td>2016</td>\n",
       "      <td>4.753014</td>\n",
       "      <td>1</td>\n",
       "      <td>6</td>\n",
       "      <td>9.852609e+05</td>\n",
       "    </tr>\n",
       "    <tr>\n",
       "      <th>2</th>\n",
       "      <td>3592</td>\n",
       "      <td>1</td>\n",
       "      <td>2</td>\n",
       "      <td>2016</td>\n",
       "      <td>3.634823</td>\n",
       "      <td>0</td>\n",
       "      <td>9</td>\n",
       "      <td>7.779774e+05</td>\n",
       "    </tr>\n",
       "    <tr>\n",
       "      <th>3</th>\n",
       "      <td>966</td>\n",
       "      <td>1</td>\n",
       "      <td>2</td>\n",
       "      <td>1977</td>\n",
       "      <td>2.730667</td>\n",
       "      <td>1</td>\n",
       "      <td>8</td>\n",
       "      <td>2.296989e+05</td>\n",
       "    </tr>\n",
       "    <tr>\n",
       "      <th>4</th>\n",
       "      <td>4926</td>\n",
       "      <td>2</td>\n",
       "      <td>1</td>\n",
       "      <td>1993</td>\n",
       "      <td>4.699073</td>\n",
       "      <td>0</td>\n",
       "      <td>8</td>\n",
       "      <td>1.041741e+06</td>\n",
       "    </tr>\n",
       "    <tr>\n",
       "      <th>...</th>\n",
       "      <td>...</td>\n",
       "      <td>...</td>\n",
       "      <td>...</td>\n",
       "      <td>...</td>\n",
       "      <td>...</td>\n",
       "      <td>...</td>\n",
       "      <td>...</td>\n",
       "      <td>...</td>\n",
       "    </tr>\n",
       "    <tr>\n",
       "      <th>995</th>\n",
       "      <td>3261</td>\n",
       "      <td>4</td>\n",
       "      <td>1</td>\n",
       "      <td>1978</td>\n",
       "      <td>2.165110</td>\n",
       "      <td>2</td>\n",
       "      <td>10</td>\n",
       "      <td>7.014940e+05</td>\n",
       "    </tr>\n",
       "    <tr>\n",
       "      <th>996</th>\n",
       "      <td>3179</td>\n",
       "      <td>1</td>\n",
       "      <td>2</td>\n",
       "      <td>1999</td>\n",
       "      <td>2.977123</td>\n",
       "      <td>1</td>\n",
       "      <td>10</td>\n",
       "      <td>6.837232e+05</td>\n",
       "    </tr>\n",
       "    <tr>\n",
       "      <th>997</th>\n",
       "      <td>2606</td>\n",
       "      <td>4</td>\n",
       "      <td>2</td>\n",
       "      <td>1962</td>\n",
       "      <td>4.055067</td>\n",
       "      <td>0</td>\n",
       "      <td>2</td>\n",
       "      <td>5.720240e+05</td>\n",
       "    </tr>\n",
       "    <tr>\n",
       "      <th>998</th>\n",
       "      <td>4723</td>\n",
       "      <td>5</td>\n",
       "      <td>2</td>\n",
       "      <td>1950</td>\n",
       "      <td>1.930921</td>\n",
       "      <td>0</td>\n",
       "      <td>7</td>\n",
       "      <td>9.648653e+05</td>\n",
       "    </tr>\n",
       "    <tr>\n",
       "      <th>999</th>\n",
       "      <td>3268</td>\n",
       "      <td>4</td>\n",
       "      <td>2</td>\n",
       "      <td>1983</td>\n",
       "      <td>3.108790</td>\n",
       "      <td>2</td>\n",
       "      <td>2</td>\n",
       "      <td>7.425993e+05</td>\n",
       "    </tr>\n",
       "  </tbody>\n",
       "</table>\n",
       "<p>1000 rows × 8 columns</p>\n",
       "</div>"
      ],
      "text/plain": [
       "     Square_Footage  Num_Bedrooms  Num_Bathrooms  Year_Built  Lot_Size  \\\n",
       "0              1360             2              1        1981  0.599637   \n",
       "1              4272             3              3        2016  4.753014   \n",
       "2              3592             1              2        2016  3.634823   \n",
       "3               966             1              2        1977  2.730667   \n",
       "4              4926             2              1        1993  4.699073   \n",
       "..              ...           ...            ...         ...       ...   \n",
       "995            3261             4              1        1978  2.165110   \n",
       "996            3179             1              2        1999  2.977123   \n",
       "997            2606             4              2        1962  4.055067   \n",
       "998            4723             5              2        1950  1.930921   \n",
       "999            3268             4              2        1983  3.108790   \n",
       "\n",
       "     Garage_Size  Neighborhood_Quality   House_Price  \n",
       "0              0                     5  2.623829e+05  \n",
       "1              1                     6  9.852609e+05  \n",
       "2              0                     9  7.779774e+05  \n",
       "3              1                     8  2.296989e+05  \n",
       "4              0                     8  1.041741e+06  \n",
       "..           ...                   ...           ...  \n",
       "995            2                    10  7.014940e+05  \n",
       "996            1                    10  6.837232e+05  \n",
       "997            0                     2  5.720240e+05  \n",
       "998            0                     7  9.648653e+05  \n",
       "999            2                     2  7.425993e+05  \n",
       "\n",
       "[1000 rows x 8 columns]"
      ]
     },
     "execution_count": 29,
     "metadata": {},
     "output_type": "execute_result"
    }
   ],
   "source": [
    "data = pd.read_csv('house_price_regression_dataset.csv')\n",
    "data"
   ]
  },
  {
   "cell_type": "code",
   "execution_count": 30,
   "metadata": {},
   "outputs": [
    {
     "data": {
      "text/plain": [
       "(     Square_Footage  Num_Bedrooms  Num_Bathrooms  Year_Built  Lot_Size  \\\n",
       " 0              1360             2              1        1981  0.599637   \n",
       " 1              4272             3              3        2016  4.753014   \n",
       " 2              3592             1              2        2016  3.634823   \n",
       " 3               966             1              2        1977  2.730667   \n",
       " 4              4926             2              1        1993  4.699073   \n",
       " ..              ...           ...            ...         ...       ...   \n",
       " 995            3261             4              1        1978  2.165110   \n",
       " 996            3179             1              2        1999  2.977123   \n",
       " 997            2606             4              2        1962  4.055067   \n",
       " 998            4723             5              2        1950  1.930921   \n",
       " 999            3268             4              2        1983  3.108790   \n",
       " \n",
       "      Garage_Size  Neighborhood_Quality  \n",
       " 0              0                     5  \n",
       " 1              1                     6  \n",
       " 2              0                     9  \n",
       " 3              1                     8  \n",
       " 4              0                     8  \n",
       " ..           ...                   ...  \n",
       " 995            2                    10  \n",
       " 996            1                    10  \n",
       " 997            0                     2  \n",
       " 998            0                     7  \n",
       " 999            2                     2  \n",
       " \n",
       " [1000 rows x 7 columns],\n",
       " 0      2.623829e+05\n",
       " 1      9.852609e+05\n",
       " 2      7.779774e+05\n",
       " 3      2.296989e+05\n",
       " 4      1.041741e+06\n",
       "            ...     \n",
       " 995    7.014940e+05\n",
       " 996    6.837232e+05\n",
       " 997    5.720240e+05\n",
       " 998    9.648653e+05\n",
       " 999    7.425993e+05\n",
       " Name: House_Price, Length: 1000, dtype: float64)"
      ]
     },
     "execution_count": 30,
     "metadata": {},
     "output_type": "execute_result"
    }
   ],
   "source": [
    "x = data.drop(columns=['House_Price'])\n",
    "y = data['House_Price']\n",
    "x, y"
   ]
  },
  {
   "cell_type": "markdown",
   "metadata": {},
   "source": [
    "### Split the data to training set and test set"
   ]
  },
  {
   "cell_type": "code",
   "execution_count": 31,
   "metadata": {},
   "outputs": [
    {
     "data": {
      "text/plain": [
       "(     Square_Footage  Num_Bedrooms  Num_Bathrooms  Year_Built  Lot_Size  \\\n",
       " 817             977             5              1        1956  1.795241   \n",
       " 263            1639             2              2        2008  2.281827   \n",
       " 365            2570             5              3        1962  4.522933   \n",
       " 358            3559             2              1        2003  3.217329   \n",
       " 367            3751             5              3        1973  3.782587   \n",
       " ..              ...           ...            ...         ...       ...   \n",
       " 745            2417             4              1        2003  3.915891   \n",
       " 432            4452             1              1        1975  3.431821   \n",
       " 902             917             4              3        1953  0.561353   \n",
       " 628            4542             3              1        1996  3.695516   \n",
       " 247            3620             5              3        2011  4.892841   \n",
       " \n",
       "      Garage_Size  Neighborhood_Quality  \n",
       " 817            2                     1  \n",
       " 263            1                     9  \n",
       " 365            2                    10  \n",
       " 358            2                     8  \n",
       " 367            2                     1  \n",
       " ..           ...                   ...  \n",
       " 745            2                     8  \n",
       " 432            0                     3  \n",
       " 902            0                     6  \n",
       " 628            0                     1  \n",
       " 247            1                     8  \n",
       " \n",
       " [700 rows x 7 columns],\n",
       " 817    214146.491007\n",
       " 263    395042.355060\n",
       " 365    605600.950741\n",
       " 358    758946.772405\n",
       " 367    839522.318604\n",
       "            ...      \n",
       " 745    580272.871594\n",
       " 432    914555.745003\n",
       " 902    191907.652505\n",
       " 628    978835.105283\n",
       " 247    861356.977559\n",
       " Name: House_Price, Length: 700, dtype: float64)"
      ]
     },
     "execution_count": 31,
     "metadata": {},
     "output_type": "execute_result"
    }
   ],
   "source": [
    "x_train, x_test, y_train, y_test = train_test_split(x, y, test_size=0.3)\n",
    "x_train, y_train"
   ]
  },
  {
   "cell_type": "markdown",
   "metadata": {},
   "source": [
    "### Normalization"
   ]
  },
  {
   "cell_type": "code",
   "execution_count": 32,
   "metadata": {},
   "outputs": [
    {
     "data": {
      "text/html": [
       "<div>\n",
       "<style scoped>\n",
       "    .dataframe tbody tr th:only-of-type {\n",
       "        vertical-align: middle;\n",
       "    }\n",
       "\n",
       "    .dataframe tbody tr th {\n",
       "        vertical-align: top;\n",
       "    }\n",
       "\n",
       "    .dataframe thead th {\n",
       "        text-align: right;\n",
       "    }\n",
       "</style>\n",
       "<table border=\"1\" class=\"dataframe\">\n",
       "  <thead>\n",
       "    <tr style=\"text-align: right;\">\n",
       "      <th></th>\n",
       "      <th>Square_Footage</th>\n",
       "      <th>Num_Bedrooms</th>\n",
       "      <th>Num_Bathrooms</th>\n",
       "      <th>Year_Built</th>\n",
       "      <th>Lot_Size</th>\n",
       "      <th>Garage_Size</th>\n",
       "      <th>Neighborhood_Quality</th>\n",
       "    </tr>\n",
       "  </thead>\n",
       "  <tbody>\n",
       "    <tr>\n",
       "      <th>817</th>\n",
       "      <td>0.195439</td>\n",
       "      <td>0.0010</td>\n",
       "      <td>0.0002</td>\n",
       "      <td>0.391278</td>\n",
       "      <td>0.000359</td>\n",
       "      <td>0.0004</td>\n",
       "      <td>0.0002</td>\n",
       "    </tr>\n",
       "    <tr>\n",
       "      <th>263</th>\n",
       "      <td>0.327866</td>\n",
       "      <td>0.0004</td>\n",
       "      <td>0.0004</td>\n",
       "      <td>0.401680</td>\n",
       "      <td>0.000456</td>\n",
       "      <td>0.0002</td>\n",
       "      <td>0.0018</td>\n",
       "    </tr>\n",
       "    <tr>\n",
       "      <th>365</th>\n",
       "      <td>0.514103</td>\n",
       "      <td>0.0010</td>\n",
       "      <td>0.0006</td>\n",
       "      <td>0.392478</td>\n",
       "      <td>0.000905</td>\n",
       "      <td>0.0004</td>\n",
       "      <td>0.0020</td>\n",
       "    </tr>\n",
       "    <tr>\n",
       "      <th>358</th>\n",
       "      <td>0.711942</td>\n",
       "      <td>0.0004</td>\n",
       "      <td>0.0002</td>\n",
       "      <td>0.400680</td>\n",
       "      <td>0.000644</td>\n",
       "      <td>0.0004</td>\n",
       "      <td>0.0016</td>\n",
       "    </tr>\n",
       "    <tr>\n",
       "      <th>367</th>\n",
       "      <td>0.750350</td>\n",
       "      <td>0.0010</td>\n",
       "      <td>0.0006</td>\n",
       "      <td>0.394679</td>\n",
       "      <td>0.000757</td>\n",
       "      <td>0.0004</td>\n",
       "      <td>0.0002</td>\n",
       "    </tr>\n",
       "    <tr>\n",
       "      <th>...</th>\n",
       "      <td>...</td>\n",
       "      <td>...</td>\n",
       "      <td>...</td>\n",
       "      <td>...</td>\n",
       "      <td>...</td>\n",
       "      <td>...</td>\n",
       "      <td>...</td>\n",
       "    </tr>\n",
       "    <tr>\n",
       "      <th>745</th>\n",
       "      <td>0.483497</td>\n",
       "      <td>0.0008</td>\n",
       "      <td>0.0002</td>\n",
       "      <td>0.400680</td>\n",
       "      <td>0.000783</td>\n",
       "      <td>0.0004</td>\n",
       "      <td>0.0016</td>\n",
       "    </tr>\n",
       "    <tr>\n",
       "      <th>432</th>\n",
       "      <td>0.890578</td>\n",
       "      <td>0.0002</td>\n",
       "      <td>0.0002</td>\n",
       "      <td>0.395079</td>\n",
       "      <td>0.000687</td>\n",
       "      <td>0.0000</td>\n",
       "      <td>0.0006</td>\n",
       "    </tr>\n",
       "    <tr>\n",
       "      <th>902</th>\n",
       "      <td>0.183437</td>\n",
       "      <td>0.0008</td>\n",
       "      <td>0.0006</td>\n",
       "      <td>0.390678</td>\n",
       "      <td>0.000112</td>\n",
       "      <td>0.0000</td>\n",
       "      <td>0.0012</td>\n",
       "    </tr>\n",
       "    <tr>\n",
       "      <th>628</th>\n",
       "      <td>0.908582</td>\n",
       "      <td>0.0006</td>\n",
       "      <td>0.0002</td>\n",
       "      <td>0.399280</td>\n",
       "      <td>0.000739</td>\n",
       "      <td>0.0000</td>\n",
       "      <td>0.0002</td>\n",
       "    </tr>\n",
       "    <tr>\n",
       "      <th>247</th>\n",
       "      <td>0.724145</td>\n",
       "      <td>0.0010</td>\n",
       "      <td>0.0006</td>\n",
       "      <td>0.402280</td>\n",
       "      <td>0.000979</td>\n",
       "      <td>0.0002</td>\n",
       "      <td>0.0016</td>\n",
       "    </tr>\n",
       "  </tbody>\n",
       "</table>\n",
       "<p>700 rows × 7 columns</p>\n",
       "</div>"
      ],
      "text/plain": [
       "     Square_Footage  Num_Bedrooms  Num_Bathrooms  Year_Built  Lot_Size  \\\n",
       "817        0.195439        0.0010         0.0002    0.391278  0.000359   \n",
       "263        0.327866        0.0004         0.0004    0.401680  0.000456   \n",
       "365        0.514103        0.0010         0.0006    0.392478  0.000905   \n",
       "358        0.711942        0.0004         0.0002    0.400680  0.000644   \n",
       "367        0.750350        0.0010         0.0006    0.394679  0.000757   \n",
       "..              ...           ...            ...         ...       ...   \n",
       "745        0.483497        0.0008         0.0002    0.400680  0.000783   \n",
       "432        0.890578        0.0002         0.0002    0.395079  0.000687   \n",
       "902        0.183437        0.0008         0.0006    0.390678  0.000112   \n",
       "628        0.908582        0.0006         0.0002    0.399280  0.000739   \n",
       "247        0.724145        0.0010         0.0006    0.402280  0.000979   \n",
       "\n",
       "     Garage_Size  Neighborhood_Quality  \n",
       "817       0.0004                0.0002  \n",
       "263       0.0002                0.0018  \n",
       "365       0.0004                0.0020  \n",
       "358       0.0004                0.0016  \n",
       "367       0.0004                0.0002  \n",
       "..           ...                   ...  \n",
       "745       0.0004                0.0016  \n",
       "432       0.0000                0.0006  \n",
       "902       0.0000                0.0012  \n",
       "628       0.0000                0.0002  \n",
       "247       0.0002                0.0016  \n",
       "\n",
       "[700 rows x 7 columns]"
      ]
     },
     "execution_count": 32,
     "metadata": {},
     "output_type": "execute_result"
    }
   ],
   "source": [
    "x_train = (x_train - np.min(x_train))/(np.max(x_train) - np.min(x_train))\n",
    "x_train"
   ]
  },
  {
   "cell_type": "code",
   "execution_count": 33,
   "metadata": {},
   "outputs": [
    {
     "data": {
      "text/plain": [
       "817    0.101110\n",
       "263    0.282977\n",
       "365    0.494666\n",
       "358    0.648835\n",
       "367    0.729843\n",
       "         ...   \n",
       "745    0.469202\n",
       "432    0.805279\n",
       "902    0.078752\n",
       "628    0.869904\n",
       "247    0.751795\n",
       "Name: House_Price, Length: 700, dtype: float64"
      ]
     },
     "execution_count": 33,
     "metadata": {},
     "output_type": "execute_result"
    }
   ],
   "source": [
    "y_train = (y_train - np.min(y_train))/(np.max(y_train) - np.min(y_train))\n",
    "y_train"
   ]
  },
  {
   "cell_type": "code",
   "execution_count": 34,
   "metadata": {},
   "outputs": [],
   "source": [
    "x_test = (x_test - np.min(x_test))/(np.max(x_test) - np.min(x_test))\n",
    "y_test = (y_test - np.min(y_test))/(np.max(y_test) - np.min(y_test))"
   ]
  },
  {
   "cell_type": "markdown",
   "metadata": {},
   "source": [
    "### Call the linear regression model"
   ]
  },
  {
   "cell_type": "code",
   "execution_count": 35,
   "metadata": {},
   "outputs": [],
   "source": [
    "model = Linear_Regression(lr = 0.005, epochs=1000)\n",
    "model.fit(x_train, y_train)"
   ]
  },
  {
   "cell_type": "markdown",
   "metadata": {},
   "source": [
    "weights and intercept"
   ]
  },
  {
   "cell_type": "code",
   "execution_count": 36,
   "metadata": {},
   "outputs": [
    {
     "name": "stdout",
     "output_type": "stream",
     "text": [
      "weights :\n",
      "[[1.00692146]\n",
      " [0.24956992]\n",
      " [0.37909691]\n",
      " [0.02741109]\n",
      " [0.53639199]\n",
      " [0.80462818]\n",
      " [0.99074453]]\n",
      "-------------------------------------\n",
      "intercept:\n",
      "-0.06545104062664389\n"
     ]
    }
   ],
   "source": [
    "print('weights :')\n",
    "print(model.w)\n",
    "print(\"-------------------------------------\")\n",
    "print('intercept:')\n",
    "print(model.b)"
   ]
  },
  {
   "cell_type": "markdown",
   "metadata": {},
   "source": [
    "### Train Score"
   ]
  },
  {
   "cell_type": "code",
   "execution_count": 37,
   "metadata": {},
   "outputs": [
    {
     "name": "stdout",
     "output_type": "stream",
     "text": [
      "r2 score train : 0.9834010481018142\n",
      "(700,)\n"
     ]
    }
   ],
   "source": [
    "y_pred = model.predict(x_train)\n",
    "print(\"r2 score train :\", r2_score(y_train, y_pred))\n",
    "y_pred = y_pred.to_numpy().reshape(y_train.shape)\n",
    "print(y_pred.shape)"
   ]
  },
  {
   "cell_type": "markdown",
   "metadata": {},
   "source": [
    "### Compare predicted values and true values in training set"
   ]
  },
  {
   "cell_type": "code",
   "execution_count": 38,
   "metadata": {},
   "outputs": [
    {
     "data": {
      "text/html": [
       "<div>\n",
       "<style scoped>\n",
       "    .dataframe tbody tr th:only-of-type {\n",
       "        vertical-align: middle;\n",
       "    }\n",
       "\n",
       "    .dataframe tbody tr th {\n",
       "        vertical-align: top;\n",
       "    }\n",
       "\n",
       "    .dataframe thead th {\n",
       "        text-align: right;\n",
       "    }\n",
       "</style>\n",
       "<table border=\"1\" class=\"dataframe\">\n",
       "  <thead>\n",
       "    <tr style=\"text-align: right;\">\n",
       "      <th></th>\n",
       "      <th>y_pred</th>\n",
       "      <th>y_train</th>\n",
       "      <th>dif</th>\n",
       "    </tr>\n",
       "  </thead>\n",
       "  <tbody>\n",
       "    <tr>\n",
       "      <th>817</th>\n",
       "      <td>0.143104</td>\n",
       "      <td>0.101110</td>\n",
       "      <td>-0.041994</td>\n",
       "    </tr>\n",
       "    <tr>\n",
       "      <th>263</th>\n",
       "      <td>0.278135</td>\n",
       "      <td>0.282977</td>\n",
       "      <td>0.004841</td>\n",
       "    </tr>\n",
       "    <tr>\n",
       "      <th>365</th>\n",
       "      <td>0.466235</td>\n",
       "      <td>0.494666</td>\n",
       "      <td>0.028431</td>\n",
       "    </tr>\n",
       "    <tr>\n",
       "      <th>358</th>\n",
       "      <td>0.664830</td>\n",
       "      <td>0.648835</td>\n",
       "      <td>-0.015996</td>\n",
       "    </tr>\n",
       "    <tr>\n",
       "      <th>367</th>\n",
       "      <td>0.702314</td>\n",
       "      <td>0.729843</td>\n",
       "      <td>0.027529</td>\n",
       "    </tr>\n",
       "    <tr>\n",
       "      <th>...</th>\n",
       "      <td>...</td>\n",
       "      <td>...</td>\n",
       "      <td>...</td>\n",
       "    </tr>\n",
       "    <tr>\n",
       "      <th>745</th>\n",
       "      <td>0.434978</td>\n",
       "      <td>0.469202</td>\n",
       "      <td>0.034223</td>\n",
       "    </tr>\n",
       "    <tr>\n",
       "      <th>432</th>\n",
       "      <td>0.843209</td>\n",
       "      <td>0.805279</td>\n",
       "      <td>-0.037930</td>\n",
       "    </tr>\n",
       "    <tr>\n",
       "      <th>902</th>\n",
       "      <td>0.131641</td>\n",
       "      <td>0.078752</td>\n",
       "      <td>-0.052889</td>\n",
       "    </tr>\n",
       "    <tr>\n",
       "      <th>628</th>\n",
       "      <td>0.861184</td>\n",
       "      <td>0.869904</td>\n",
       "      <td>0.008719</td>\n",
       "    </tr>\n",
       "    <tr>\n",
       "      <th>247</th>\n",
       "      <td>0.677481</td>\n",
       "      <td>0.751795</td>\n",
       "      <td>0.074313</td>\n",
       "    </tr>\n",
       "  </tbody>\n",
       "</table>\n",
       "<p>700 rows × 3 columns</p>\n",
       "</div>"
      ],
      "text/plain": [
       "       y_pred   y_train       dif\n",
       "817  0.143104  0.101110 -0.041994\n",
       "263  0.278135  0.282977  0.004841\n",
       "365  0.466235  0.494666  0.028431\n",
       "358  0.664830  0.648835 -0.015996\n",
       "367  0.702314  0.729843  0.027529\n",
       "..        ...       ...       ...\n",
       "745  0.434978  0.469202  0.034223\n",
       "432  0.843209  0.805279 -0.037930\n",
       "902  0.131641  0.078752 -0.052889\n",
       "628  0.861184  0.869904  0.008719\n",
       "247  0.677481  0.751795  0.074313\n",
       "\n",
       "[700 rows x 3 columns]"
      ]
     },
     "execution_count": 38,
     "metadata": {},
     "output_type": "execute_result"
    }
   ],
   "source": [
    "dif = pd.DataFrame({'y_pred' : y_pred, \n",
    "                    'y_train' : y_train,\n",
    "                    'dif' : y_train-y_pred})\n",
    "dif"
   ]
  },
  {
   "cell_type": "markdown",
   "metadata": {},
   "source": [
    "### Training Loss"
   ]
  },
  {
   "cell_type": "code",
   "execution_count": 39,
   "metadata": {},
   "outputs": [
    {
     "data": {
      "text/plain": [
       "0.020502044634573474"
      ]
     },
     "execution_count": 39,
     "metadata": {},
     "output_type": "execute_result"
    }
   ],
   "source": [
    "train_loss = model.MSE(y_train, y_pred)\n",
    "train_loss"
   ]
  },
  {
   "cell_type": "markdown",
   "metadata": {},
   "source": [
    "### Test score"
   ]
  },
  {
   "cell_type": "code",
   "execution_count": 40,
   "metadata": {},
   "outputs": [
    {
     "name": "stdout",
     "output_type": "stream",
     "text": [
      "r2 score test : 0.9800722789305099\n",
      "(300,)\n"
     ]
    }
   ],
   "source": [
    "y_pred = model.predict(x_test)\n",
    "print(\"r2 score test :\", r2_score(y_test, y_pred))\n",
    "y_pred = y_pred.to_numpy().reshape(y_test.shape)\n",
    "print(y_pred.shape)"
   ]
  },
  {
   "cell_type": "markdown",
   "metadata": {},
   "source": [
    "### Compare predicted values and true values in test set"
   ]
  },
  {
   "cell_type": "code",
   "execution_count": 41,
   "metadata": {},
   "outputs": [
    {
     "data": {
      "text/html": [
       "<div>\n",
       "<style scoped>\n",
       "    .dataframe tbody tr th:only-of-type {\n",
       "        vertical-align: middle;\n",
       "    }\n",
       "\n",
       "    .dataframe tbody tr th {\n",
       "        vertical-align: top;\n",
       "    }\n",
       "\n",
       "    .dataframe thead th {\n",
       "        text-align: right;\n",
       "    }\n",
       "</style>\n",
       "<table border=\"1\" class=\"dataframe\">\n",
       "  <thead>\n",
       "    <tr style=\"text-align: right;\">\n",
       "      <th></th>\n",
       "      <th>y_pred</th>\n",
       "      <th>y_test</th>\n",
       "      <th>dif</th>\n",
       "    </tr>\n",
       "  </thead>\n",
       "  <tbody>\n",
       "    <tr>\n",
       "      <th>627</th>\n",
       "      <td>0.819690</td>\n",
       "      <td>0.840235</td>\n",
       "      <td>0.020545</td>\n",
       "    </tr>\n",
       "    <tr>\n",
       "      <th>96</th>\n",
       "      <td>0.149551</td>\n",
       "      <td>0.198546</td>\n",
       "      <td>0.048995</td>\n",
       "    </tr>\n",
       "    <tr>\n",
       "      <th>238</th>\n",
       "      <td>0.390494</td>\n",
       "      <td>0.391774</td>\n",
       "      <td>0.001280</td>\n",
       "    </tr>\n",
       "    <tr>\n",
       "      <th>309</th>\n",
       "      <td>0.164678</td>\n",
       "      <td>0.159908</td>\n",
       "      <td>-0.004770</td>\n",
       "    </tr>\n",
       "    <tr>\n",
       "      <th>210</th>\n",
       "      <td>0.339655</td>\n",
       "      <td>0.331755</td>\n",
       "      <td>-0.007900</td>\n",
       "    </tr>\n",
       "    <tr>\n",
       "      <th>...</th>\n",
       "      <td>...</td>\n",
       "      <td>...</td>\n",
       "      <td>...</td>\n",
       "    </tr>\n",
       "    <tr>\n",
       "      <th>175</th>\n",
       "      <td>0.180543</td>\n",
       "      <td>0.140650</td>\n",
       "      <td>-0.039893</td>\n",
       "    </tr>\n",
       "    <tr>\n",
       "      <th>597</th>\n",
       "      <td>0.660063</td>\n",
       "      <td>0.668477</td>\n",
       "      <td>0.008414</td>\n",
       "    </tr>\n",
       "    <tr>\n",
       "      <th>863</th>\n",
       "      <td>0.599494</td>\n",
       "      <td>0.632263</td>\n",
       "      <td>0.032769</td>\n",
       "    </tr>\n",
       "    <tr>\n",
       "      <th>891</th>\n",
       "      <td>0.316869</td>\n",
       "      <td>0.325800</td>\n",
       "      <td>0.008930</td>\n",
       "    </tr>\n",
       "    <tr>\n",
       "      <th>274</th>\n",
       "      <td>0.162535</td>\n",
       "      <td>0.124692</td>\n",
       "      <td>-0.037843</td>\n",
       "    </tr>\n",
       "  </tbody>\n",
       "</table>\n",
       "<p>300 rows × 3 columns</p>\n",
       "</div>"
      ],
      "text/plain": [
       "       y_pred    y_test       dif\n",
       "627  0.819690  0.840235  0.020545\n",
       "96   0.149551  0.198546  0.048995\n",
       "238  0.390494  0.391774  0.001280\n",
       "309  0.164678  0.159908 -0.004770\n",
       "210  0.339655  0.331755 -0.007900\n",
       "..        ...       ...       ...\n",
       "175  0.180543  0.140650 -0.039893\n",
       "597  0.660063  0.668477  0.008414\n",
       "863  0.599494  0.632263  0.032769\n",
       "891  0.316869  0.325800  0.008930\n",
       "274  0.162535  0.124692 -0.037843\n",
       "\n",
       "[300 rows x 3 columns]"
      ]
     },
     "execution_count": 41,
     "metadata": {},
     "output_type": "execute_result"
    }
   ],
   "source": [
    "dif = pd.DataFrame({'y_pred' : y_pred, \n",
    "                    'y_test' : y_test,\n",
    "                    'dif' : y_test-y_pred})\n",
    "dif"
   ]
  },
  {
   "cell_type": "markdown",
   "metadata": {},
   "source": [
    "### Test Loss"
   ]
  },
  {
   "cell_type": "code",
   "execution_count": 42,
   "metadata": {},
   "outputs": [
    {
     "data": {
      "text/plain": [
       "0.0018861823484336497"
      ]
     },
     "execution_count": 42,
     "metadata": {},
     "output_type": "execute_result"
    }
   ],
   "source": [
    "test_loss = model.MSE(y_test, y_pred)\n",
    "test_loss"
   ]
  },
  {
   "cell_type": "markdown",
   "metadata": {},
   "source": [
    "### Use SKLearn to compare r2 score"
   ]
  },
  {
   "cell_type": "code",
   "execution_count": 43,
   "metadata": {},
   "outputs": [
    {
     "name": "stdout",
     "output_type": "stream",
     "text": [
      "r2 score train : 0.9986336524007168\n",
      "-------------------------------------\n",
      "r2 score test : 0.99802095245341\n",
      "-------------------------------------\n"
     ]
    }
   ],
   "source": [
    "linreg = LinearRegression()\n",
    "linreg.fit(x_train, y_train)\n",
    "y_pred_test = linreg.predict(x_test)\n",
    "y_pred_train = linreg.predict(x_train)\n",
    "print(\"r2 score train :\", r2_score(y_train, y_pred_train))\n",
    "print(\"-------------------------------------\")\n",
    "print(\"r2 score test :\", r2_score(y_test, y_pred_test))\n",
    "print(\"-------------------------------------\")"
   ]
  }
 ],
 "metadata": {
  "kernelspec": {
   "display_name": "Python 3",
   "language": "python",
   "name": "python3"
  },
  "language_info": {
   "codemirror_mode": {
    "name": "ipython",
    "version": 3
   },
   "file_extension": ".py",
   "mimetype": "text/x-python",
   "name": "python",
   "nbconvert_exporter": "python",
   "pygments_lexer": "ipython3",
   "version": "3.12.5"
  }
 },
 "nbformat": 4,
 "nbformat_minor": 2
}
